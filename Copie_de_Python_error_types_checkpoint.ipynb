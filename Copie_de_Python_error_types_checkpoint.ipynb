{
  "nbformat": 4,
  "nbformat_minor": 0,
  "metadata": {
    "kernelspec": {
      "display_name": "Python 2",
      "language": "python",
      "name": "python2"
    },
    "language_info": {
      "codemirror_mode": {
        "name": "ipython",
        "version": 3
      },
      "file_extension": ".py",
      "mimetype": "text/x-python",
      "name": "python",
      "nbconvert_exporter": "python",
      "pygments_lexer": "ipython3",
      "version": "3.6.8"
    },
    "colab": {
      "name": "Copie de Python error types checkpoint.ipynb",
      "provenance": [],
      "include_colab_link": true
    }
  },
  "cells": [
    {
      "cell_type": "markdown",
      "metadata": {
        "id": "view-in-github",
        "colab_type": "text"
      },
      "source": [
        "<a href=\"https://colab.research.google.com/github/ilyestouati1/Checkpoint-/blob/main/Copie_de_Python_error_types_checkpoint.ipynb\" target=\"_parent\"><img src=\"https://colab.research.google.com/assets/colab-badge.svg\" alt=\"Open In Colab\"/></a>"
      ]
    },
    {
      "cell_type": "markdown",
      "metadata": {
        "id": "BnA5PscALqYj"
      },
      "source": [
        "# Rectify the code in each cell and **explain the error in comments**"
      ]
    },
    {
      "cell_type": "markdown",
      "metadata": {
        "id": "aZcPJnU5CUJC"
      },
      "source": [
        "### index error"
      ]
    },
    {
      "cell_type": "code",
      "metadata": {
        "id": "vizZiOjyCUJF",
        "colab": {
          "base_uri": "https://localhost:8080/"
        },
        "outputId": "83039e9b-5d41-48ff-9810-26262cd3fca8"
      },
      "source": [
        "mylist=[14, \"hello\", 967]\n",
        "mylist[2]\n",
        "#there are only 3 items in the list"
      ],
      "execution_count": null,
      "outputs": [
        {
          "output_type": "execute_result",
          "data": {
            "text/plain": [
              "967"
            ]
          },
          "metadata": {
            "tags": []
          },
          "execution_count": 3
        }
      ]
    },
    {
      "cell_type": "code",
      "metadata": {
        "id": "PctyMmHLfvkb"
      },
      "source": [
        "import pandas\n",
        "import numpy\n",
        "#numpy and pandas without caps"
      ],
      "execution_count": null,
      "outputs": []
    },
    {
      "cell_type": "markdown",
      "metadata": {
        "id": "QOOGIm3DCUJb"
      },
      "source": [
        "# syntax error"
      ]
    },
    {
      "cell_type": "code",
      "metadata": {
        "id": "M5R4cb7fCUJb",
        "colab": {
          "base_uri": "https://localhost:8080/"
        },
        "outputId": "541039cb-c104-48e8-b394-1f69fb267668"
      },
      "source": [
        "print(\"python errors\")\n",
        "#p of print in not in caps and paretheses were missing"
      ],
      "execution_count": null,
      "outputs": [
        {
          "output_type": "stream",
          "text": [
            "python errors\n"
          ],
          "name": "stdout"
        }
      ]
    },
    {
      "cell_type": "markdown",
      "metadata": {
        "id": "Zllqh28_CUJh"
      },
      "source": [
        "# key error"
      ]
    },
    {
      "cell_type": "code",
      "metadata": {
        "id": "OuWy1e17CUJj"
      },
      "source": [
        "mydictionnary={True:\"hello\",False:\"bye\", '3':\"python\"}\n"
      ],
      "execution_count": null,
      "outputs": []
    },
    {
      "cell_type": "markdown",
      "metadata": {
        "id": "jc1wRC1aCUJw"
      },
      "source": [
        "# indentation error"
      ]
    },
    {
      "cell_type": "code",
      "metadata": {
        "id": "meWj9PP_CUJy"
      },
      "source": [
        "i=14\n",
        "while i<4:\n",
        "   print(i)\n",
        "i+=1\n",
        "#space after the while loop"
      ],
      "execution_count": null,
      "outputs": []
    },
    {
      "cell_type": "markdown",
      "metadata": {
        "id": "-g_eEuEICUJ5"
      },
      "source": [
        "# StopIteration"
      ]
    },
    {
      "cell_type": "code",
      "metadata": {
        "id": "tJv5vQQGCUJ5",
        "colab": {
          "base_uri": "https://localhost:8080/"
        },
        "outputId": "ef520488-5292-4aef-a059-b789d68dc2e3"
      },
      "source": [
        "\n",
        "it=iter([1,2,3])\n",
        "next(it)\n",
        "next(it)\n",
        "next(it)\n",
        "#there are only three items"
      ],
      "execution_count": null,
      "outputs": [
        {
          "output_type": "execute_result",
          "data": {
            "text/plain": [
              "3"
            ]
          },
          "metadata": {
            "tags": []
          },
          "execution_count": 12
        }
      ]
    },
    {
      "cell_type": "markdown",
      "metadata": {
        "id": "0Q0fJoS1CUKA"
      },
      "source": [
        "# TypeError\n"
      ]
    },
    {
      "cell_type": "code",
      "metadata": {
        "id": "rh6bhiQ6CUKA",
        "colab": {
          "base_uri": "https://localhost:8080/"
        },
        "outputId": "1a06a759-0007-4978-c127-e7bf179bd9f1"
      },
      "source": [
        "15+15\n",
        "#15 must be int"
      ],
      "execution_count": null,
      "outputs": [
        {
          "output_type": "execute_result",
          "data": {
            "text/plain": [
              "30"
            ]
          },
          "metadata": {
            "tags": []
          },
          "execution_count": 13
        }
      ]
    },
    {
      "cell_type": "markdown",
      "metadata": {
        "id": "-xs5Em9QCUKF"
      },
      "source": [
        "# ValueError"
      ]
    },
    {
      "cell_type": "code",
      "metadata": {
        "id": "_rUS-J3dCUKH",
        "colab": {
          "base_uri": "https://localhost:8080/"
        },
        "outputId": "1e3d14f4-2b10-46c6-dcc6-eb75ee4ca4f0"
      },
      "source": [
        "int('25945')\n",
        "#the string must be appropriate"
      ],
      "execution_count": null,
      "outputs": [
        {
          "output_type": "execute_result",
          "data": {
            "text/plain": [
              "25945"
            ]
          },
          "metadata": {
            "tags": []
          },
          "execution_count": 15
        }
      ]
    },
    {
      "cell_type": "markdown",
      "metadata": {
        "id": "SIKftfJSCUKM"
      },
      "source": [
        "# NameError"
      ]
    },
    {
      "cell_type": "code",
      "metadata": {
        "id": "j3ZhAO67CUKM",
        "colab": {
          "base_uri": "https://localhost:8080/"
        },
        "outputId": "6cef9213-0ef0-4faf-873b-075078d9c4c5"
      },
      "source": [
        "print('python')\n",
        "#yes"
      ],
      "execution_count": null,
      "outputs": [
        {
          "output_type": "stream",
          "text": [
            "python\n"
          ],
          "name": "stdout"
        }
      ]
    },
    {
      "cell_type": "markdown",
      "metadata": {
        "id": "kNtxxeuaCUKT"
      },
      "source": [
        "# ZeroDivisionError"
      ]
    },
    {
      "cell_type": "code",
      "metadata": {
        "id": "hTaVRw1GCUKW"
      },
      "source": [
        "x=19/2\n",
        "#we can't devivide by 0"
      ],
      "execution_count": null,
      "outputs": []
    }
  ]
}