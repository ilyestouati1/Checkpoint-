{
 "cells": [
  {
   "cell_type": "code",
   "execution_count": 3,
   "id": "5be330da",
   "metadata": {
    "scrolled": true
   },
   "outputs": [
    {
     "name": "stdout",
     "output_type": "stream",
     "text": [
      "touati ilyes\n"
     ]
    }
   ],
   "source": [
    "N=\"ilyes\"\n",
    "P= \"touati\"\n",
    "print (P,N\n",
    "    )"
   ]
  },
  {
   "cell_type": "code",
   "execution_count": null,
   "id": "bea02ae1",
   "metadata": {},
   "outputs": [],
   "source": [
    "#question 2\n",
    "n=(input(\"tapez un entier n\"))\n",
    "S= int(n)+int(n+n)+int(n+n+n)\n",
    "print(S,\"(\",n,\"+\",(n+n),\"+\",(n+n+n),\")\") \n"
   ]
  },
  {
   "cell_type": "code",
   "execution_count": null,
   "id": "504dec37",
   "metadata": {},
   "outputs": [],
   "source": [
    "#question 3\n",
    "N=int(input(\"saisissez un entier\"))\n",
    "S=N%2\n",
    "if S==0:\n",
    "    print(\"N est paire\")\n",
    "else:\n",
    "    print(\"N est impaire\")"
   ]
  },
  {
   "cell_type": "code",
   "execution_count": null,
   "id": "037fef9f",
   "metadata": {},
   "outputs": [],
   "source": [
    "#question 4\n",
    "S=\"\"\n",
    "for i in range (2000,3200):\n",
    "    if i%7==0 and i%5!=0:\n",
    "        S=S+\" \"+str(i)\n",
    "print(S)\n",
    "  "
   ]
  },
  {
   "cell_type": "code",
   "execution_count": null,
   "id": "224f26fa",
   "metadata": {},
   "outputs": [],
   "source": [
    "#question 5\n",
    "S=1\n",
    "n=int(input(\"saisissez un entier n\"))\n",
    "for i in range (1,n+1):\n",
    "    S=S*i\n",
    "print (S)    \n",
    "\n"
   ]
  },
  {
   "cell_type": "code",
   "execution_count": null,
   "id": "b0005891",
   "metadata": {},
   "outputs": [],
   "source": [
    "#question 6\n",
    "ch=(input(\"tappez une chaines de caractére\"))\n",
    "n=''\n",
    "for i in range(len(ch)):\n",
    "    if i%2==0:\n",
    "        n=n+ch[i]\n",
    "        \n",
    "print (n)"
   ]
  },
  {
   "cell_type": "code",
   "execution_count": null,
   "id": "a44ae12f",
   "metadata": {},
   "outputs": [],
   "source": [
    "\n",
    "P=int(input(\"veuillez saisir un prix\"))\n",
    "S=''\n",
    "if P>=500:\n",
    "    S=P*0.5\n",
    "elif 500>P>=200:\n",
    "    S=P*0.7\n",
    "else:\n",
    "    S=P*0.1\n",
    "print(S)\n",
    "    \n",
    "    \n",
    "#question 7"
   ]
  }
 ],
 "metadata": {
  "kernelspec": {
   "display_name": "Python 3",
   "language": "python",
   "name": "python3"
  },
  "language_info": {
   "codemirror_mode": {
    "name": "ipython",
    "version": 3
   },
   "file_extension": ".py",
   "mimetype": "text/x-python",
   "name": "python",
   "nbconvert_exporter": "python",
   "pygments_lexer": "ipython3",
   "version": "3.8.8"
  }
 },
 "nbformat": 4,
 "nbformat_minor": 5
}
